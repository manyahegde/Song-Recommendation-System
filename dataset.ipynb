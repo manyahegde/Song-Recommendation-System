{
 "cells": [
  {
   "cell_type": "code",
   "execution_count": 1,
   "id": "9ab8fdf1",
   "metadata": {},
   "outputs": [],
   "source": [
    "import pandas as pd\n",
    "import bamboolib as bam\n",
    "df = pd.read_csv('dataset.csv')"
   ]
  },
  {
   "cell_type": "code",
   "execution_count": 2,
   "id": "8e6b3d8f",
   "metadata": {},
   "outputs": [
    {
     "data": {
      "application/vnd.jupyter.widget-view+json": {
       "model_id": "653a0f7db29647ad9d9fe6f8cadd1ba4",
       "version_major": 2,
       "version_minor": 0
      },
      "text/plain": [
       "VBox(children=(HTML(value='<div class=\"bamboolib-notification bamboolib-notification-info\"><b>Pro Tip:</b> sav…"
      ]
     },
     "metadata": {},
     "output_type": "display_data"
    }
   ],
   "source": [
    "bam.show(df)"
   ]
  },
  {
   "cell_type": "code",
   "execution_count": 3,
   "id": "0ef5b8f2",
   "metadata": {},
   "outputs": [],
   "source": [
    "df=df.drop(columns=['Unnamed: 0','key','loudness','mode','speechiness','instrumentalness','liveness','time_signature'])"
   ]
  },
  {
   "cell_type": "code",
   "execution_count": 4,
   "id": "4d2fe19d",
   "metadata": {},
   "outputs": [],
   "source": [
    "df=df.dropna()"
   ]
  },
  {
   "cell_type": "code",
   "execution_count": 5,
   "id": "0a8c68c9",
   "metadata": {},
   "outputs": [
    {
     "data": {
      "text/plain": [
       "(113999, 13)"
      ]
     },
     "execution_count": 5,
     "metadata": {},
     "output_type": "execute_result"
    }
   ],
   "source": [
    "df.shape"
   ]
  },
  {
   "cell_type": "code",
   "execution_count": 6,
   "id": "8c771e64",
   "metadata": {},
   "outputs": [
    {
     "data": {
      "text/plain": [
       "(89740, 13)"
      ]
     },
     "execution_count": 6,
     "metadata": {},
     "output_type": "execute_result"
    }
   ],
   "source": [
    "df=df.drop_duplicates(subset=['track_id'], keep='first')\n",
    "df.shape"
   ]
  },
  {
   "cell_type": "code",
   "execution_count": null,
   "id": "ad951e8e",
   "metadata": {},
   "outputs": [],
   "source": []
  },
  {
   "cell_type": "code",
   "execution_count": 7,
   "id": "ad8be497",
   "metadata": {},
   "outputs": [],
   "source": [
    "bin_boundaries = [0, 20, 40, 60, 80, 100]\n",
    "\n",
    "# Create a new column to store the bin labels\n",
    "df['popularity_1'] = pd.cut(df['popularity'], bins=bin_boundaries, labels=False)\n"
   ]
  },
  {
   "cell_type": "code",
   "execution_count": 8,
   "id": "f026e997",
   "metadata": {},
   "outputs": [
    {
     "data": {
      "text/plain": [
       "1.0    30033\n",
       "2.0    25781\n",
       "0.0    15644\n",
       "3.0     8335\n",
       "4.0      500\n",
       "Name: popularity_1, dtype: int64"
      ]
     },
     "execution_count": 8,
     "metadata": {},
     "output_type": "execute_result"
    }
   ],
   "source": [
    "df['popularity_1'].value_counts()"
   ]
  },
  {
   "cell_type": "code",
   "execution_count": 9,
   "id": "86a6dd84",
   "metadata": {},
   "outputs": [
    {
     "name": "stdout",
     "output_type": "stream",
     "text": [
      "Bin 1: 0 - 20\n",
      "Bin 2: 20 - 40\n",
      "Bin 3: 40 - 60\n",
      "Bin 4: 60 - 80\n",
      "Bin 5: 80 - 100\n"
     ]
    }
   ],
   "source": [
    "import numpy as np\n",
    "hist, bin_edges = np.histogram(df['popularity_1'], bins=bin_boundaries)\n",
    "\n",
    "# Print the bin boundaries\n",
    "for i in range(len(bin_edges)-1):\n",
    "    print(f\"Bin {i+1}: {bin_edges[i]} - {bin_edges[i+1]}\")"
   ]
  },
  {
   "cell_type": "code",
   "execution_count": 10,
   "id": "98f55956",
   "metadata": {},
   "outputs": [],
   "source": [
    "df['duration'] = df['duration_ms'] / (1000 * 60)"
   ]
  },
  {
   "cell_type": "code",
   "execution_count": 11,
   "id": "3c4e9b3a",
   "metadata": {},
   "outputs": [],
   "source": [
    "bin_edges = [df['duration'].min(), df['duration'].quantile(0.25), df['duration'].quantile(0.5), df['duration'].quantile(0.75), df['duration'].max()]\n",
    "\n",
    "# Classify the column according to the bins\n",
    "df['duration_1'] = pd.cut(df['duration'], bins=bin_edges, labels=False)"
   ]
  },
  {
   "cell_type": "code",
   "execution_count": 12,
   "id": "fa179cd2",
   "metadata": {},
   "outputs": [
    {
     "data": {
      "text/plain": [
       "0.0    22448\n",
       "2.0    22438\n",
       "3.0    22432\n",
       "1.0    22421\n",
       "Name: duration_1, dtype: int64"
      ]
     },
     "execution_count": 12,
     "metadata": {},
     "output_type": "execute_result"
    }
   ],
   "source": [
    "df['duration_1'].value_counts()"
   ]
  },
  {
   "cell_type": "code",
   "execution_count": 13,
   "id": "c25a6cbf",
   "metadata": {},
   "outputs": [
    {
     "name": "stdout",
     "output_type": "stream",
     "text": [
      "Bin 1: 0.1431 - 2.884\n",
      "Bin 2: 2.884 - 3.554925\n",
      "Bin 3: 3.554925 - 4.404883333333333\n",
      "Bin 4: 4.404883333333333 - 87.28825\n"
     ]
    }
   ],
   "source": [
    "hist, bin_edges = np.histogram(df['duration_1'], bins=bin_edges)\n",
    "\n",
    "# Print the bin boundaries\n",
    "for i in range(len(bin_edges)-1):\n",
    "    print(f\"Bin {i+1}: {bin_edges[i]} - {bin_edges[i+1]}\")"
   ]
  },
  {
   "cell_type": "code",
   "execution_count": 14,
   "id": "b52572d1",
   "metadata": {},
   "outputs": [],
   "source": [
    "from sklearn.preprocessing import LabelEncoder\n",
    "le=LabelEncoder()\n",
    "df['explicit']=le.fit_transform(df['explicit'])"
   ]
  },
  {
   "cell_type": "code",
   "execution_count": 15,
   "id": "eb1049d5",
   "metadata": {},
   "outputs": [],
   "source": [
    "bin_boundaries = [0.0, 0.2, 0.4, 0.6, 0.8, 1.0]\n",
    "df['danceability_1'] = pd.cut(df['danceability'], bins=bin_boundaries, labels=['0', '1', '2', '3', '4'])"
   ]
  },
  {
   "cell_type": "code",
   "execution_count": 16,
   "id": "8fbb8d19",
   "metadata": {},
   "outputs": [
    {
     "data": {
      "text/plain": [
       "2    33601\n",
       "3    33163\n",
       "1    13064\n",
       "4     6832\n",
       "0     2923\n",
       "Name: danceability_1, dtype: int64"
      ]
     },
     "execution_count": 16,
     "metadata": {},
     "output_type": "execute_result"
    }
   ],
   "source": [
    "df['danceability_1'].value_counts()"
   ]
  },
  {
   "cell_type": "code",
   "execution_count": 17,
   "id": "c5ea06c6",
   "metadata": {},
   "outputs": [
    {
     "name": "stdout",
     "output_type": "stream",
     "text": [
      "Bin 1: 0.0 - 0.2\n",
      "Bin 2: 0.2 - 0.4\n",
      "Bin 3: 0.4 - 0.6\n",
      "Bin 4: 0.6 - 0.8\n",
      "Bin 5: 0.8 - 1.0\n"
     ]
    }
   ],
   "source": [
    "hist, bin_edges = np.histogram(df['danceability'], bins=bin_boundaries)\n",
    "\n",
    "# Print the bin boundaries\n",
    "for i in range(len(bin_edges)-1):\n",
    "    print(f\"Bin {i+1}: {bin_edges[i]} - {bin_edges[i+1]}\")"
   ]
  },
  {
   "cell_type": "code",
   "execution_count": 18,
   "id": "0b050a1e",
   "metadata": {},
   "outputs": [],
   "source": [
    "bin_boundaries = [0.0, 0.2, 0.4, 0.6, 0.8, 1.0]\n",
    "\n",
    "# Create a new column to store the bin labels\n",
    "df['energy_1'] = pd.cut(df['energy'], bins=bin_boundaries, labels=False)"
   ]
  },
  {
   "cell_type": "code",
   "execution_count": 19,
   "id": "0c374b37",
   "metadata": {},
   "outputs": [
    {
     "data": {
      "text/plain": [
       "4.0    29447\n",
       "3.0    23887\n",
       "2.0    18522\n",
       "1.0    11151\n",
       "0.0     6732\n",
       "Name: energy_1, dtype: int64"
      ]
     },
     "execution_count": 19,
     "metadata": {},
     "output_type": "execute_result"
    }
   ],
   "source": [
    "df['energy_1'].value_counts()"
   ]
  },
  {
   "cell_type": "code",
   "execution_count": 20,
   "id": "98dcb069",
   "metadata": {},
   "outputs": [
    {
     "name": "stdout",
     "output_type": "stream",
     "text": [
      "Bin 1: 0.0 - 0.2\n",
      "Bin 2: 0.2 - 0.4\n",
      "Bin 3: 0.4 - 0.6\n",
      "Bin 4: 0.6 - 0.8\n",
      "Bin 5: 0.8 - 1.0\n"
     ]
    }
   ],
   "source": [
    "hist, bin_edges = np.histogram(df['energy'], bins=bin_boundaries)\n",
    "\n",
    "# Print the bin boundaries\n",
    "for i in range(len(bin_edges)-1):\n",
    "    print(f\"Bin {i+1}: {bin_edges[i]} - {bin_edges[i+1]}\")"
   ]
  },
  {
   "cell_type": "code",
   "execution_count": 21,
   "id": "5f464467",
   "metadata": {
    "scrolled": true
   },
   "outputs": [
    {
     "data": {
      "application/vnd.jupyter.widget-view+json": {
       "model_id": "f20f6c222c4d4afab2ff1b507add89a1",
       "version_major": 2,
       "version_minor": 0
      },
      "text/plain": [
       "VBox(children=(HTML(value='<div class=\"bamboolib-notification bamboolib-notification-info\"><b>Pro Tip:</b> sav…"
      ]
     },
     "metadata": {},
     "output_type": "display_data"
    }
   ],
   "source": [
    "bam.show(df)"
   ]
  },
  {
   "cell_type": "code",
   "execution_count": 22,
   "id": "e8761749",
   "metadata": {},
   "outputs": [],
   "source": [
    "bin_boundaries = [0.0, 0.2, 0.4, 0.6, 0.8, 1.0]\n",
    "\n",
    "# Create a new column to store the bin labels\n",
    "df['acousticness_1'] = pd.cut(df['acousticness'], bins=bin_boundaries, labels=False)"
   ]
  },
  {
   "cell_type": "code",
   "execution_count": 23,
   "id": "b07c0d27",
   "metadata": {},
   "outputs": [
    {
     "data": {
      "text/plain": [
       "0.0    45726\n",
       "4.0    13451\n",
       "1.0    11078\n",
       "3.0    10194\n",
       "2.0     9252\n",
       "Name: acousticness_1, dtype: int64"
      ]
     },
     "execution_count": 23,
     "metadata": {},
     "output_type": "execute_result"
    }
   ],
   "source": [
    "df['acousticness_1'].value_counts()"
   ]
  },
  {
   "cell_type": "code",
   "execution_count": 24,
   "id": "6bdd6106",
   "metadata": {},
   "outputs": [
    {
     "name": "stdout",
     "output_type": "stream",
     "text": [
      "Bin 1: 0.0 - 0.2\n",
      "Bin 2: 0.2 - 0.4\n",
      "Bin 3: 0.4 - 0.6\n",
      "Bin 4: 0.6 - 0.8\n",
      "Bin 5: 0.8 - 1.0\n"
     ]
    }
   ],
   "source": [
    "hist, bin_edges = np.histogram(df['acousticness'], bins=bin_boundaries)\n",
    "\n",
    "# Print the bin boundaries\n",
    "for i in range(len(bin_edges)-1):\n",
    "    print(f\"Bin {i+1}: {bin_edges[i]} - {bin_edges[i+1]}\")"
   ]
  },
  {
   "cell_type": "code",
   "execution_count": 25,
   "id": "9ed83425",
   "metadata": {},
   "outputs": [],
   "source": [
    "bin_boundaries = [0.0, 0.2, 0.4, 0.6, 0.8, 1.0]\n",
    "\n",
    "# Create a new column to store the bin labels\n",
    "df['valence_1'] = pd.cut(df['valence'], bins=bin_boundaries, labels=False)"
   ]
  },
  {
   "cell_type": "code",
   "execution_count": 26,
   "id": "bd63486a",
   "metadata": {},
   "outputs": [
    {
     "data": {
      "text/plain": [
       "1.0    21851\n",
       "2.0    20552\n",
       "3.0    17918\n",
       "0.0    17028\n",
       "4.0    12215\n",
       "Name: valence_1, dtype: int64"
      ]
     },
     "execution_count": 26,
     "metadata": {},
     "output_type": "execute_result"
    }
   ],
   "source": [
    "df['valence_1'].value_counts()"
   ]
  },
  {
   "cell_type": "code",
   "execution_count": 27,
   "id": "24b1b364",
   "metadata": {},
   "outputs": [
    {
     "name": "stdout",
     "output_type": "stream",
     "text": [
      "Bin 1: 0.0 - 0.2\n",
      "Bin 2: 0.2 - 0.4\n",
      "Bin 3: 0.4 - 0.6\n",
      "Bin 4: 0.6 - 0.8\n",
      "Bin 5: 0.8 - 1.0\n"
     ]
    }
   ],
   "source": [
    "hist, bin_edges = np.histogram(df['valence'], bins=bin_boundaries)\n",
    "\n",
    "# Print the bin boundaries\n",
    "for i in range(len(bin_edges)-1):\n",
    "    print(f\"Bin {i+1}: {bin_edges[i]} - {bin_edges[i+1]}\")"
   ]
  },
  {
   "cell_type": "code",
   "execution_count": 28,
   "id": "f7934d71",
   "metadata": {},
   "outputs": [],
   "source": [
    "bin_boundaries = pd.qcut(df['tempo'], q=5, labels=False)"
   ]
  },
  {
   "cell_type": "code",
   "execution_count": 29,
   "id": "f30e7347",
   "metadata": {},
   "outputs": [
    {
     "data": {
      "text/plain": [
       "2    17965\n",
       "1    17949\n",
       "0    17948\n",
       "4    17948\n",
       "3    17930\n",
       "Name: tempo, dtype: int64"
      ]
     },
     "execution_count": 29,
     "metadata": {},
     "output_type": "execute_result"
    }
   ],
   "source": [
    "bin_boundaries.value_counts()"
   ]
  },
  {
   "cell_type": "code",
   "execution_count": 30,
   "id": "d6db22bc",
   "metadata": {},
   "outputs": [],
   "source": [
    "bin_edges = [df['tempo'].min(), df['tempo'].quantile(0.25), df['tempo'].quantile(0.5), df['tempo'].quantile(0.75), df['tempo'].max()]\n",
    "\n",
    "# Classify the column according to the bins\n",
    "df['tempo_1'] = pd.cut(df['tempo'], bins=bin_edges, labels=False)"
   ]
  },
  {
   "cell_type": "code",
   "execution_count": 31,
   "id": "b1bb6b43",
   "metadata": {},
   "outputs": [
    {
     "data": {
      "text/plain": [
       "1.0    22437\n",
       "2.0    22435\n",
       "3.0    22433\n",
       "0.0    22278\n",
       "Name: tempo_1, dtype: int64"
      ]
     },
     "execution_count": 31,
     "metadata": {},
     "output_type": "execute_result"
    }
   ],
   "source": [
    "df['tempo_1'].value_counts()"
   ]
  },
  {
   "cell_type": "code",
   "execution_count": 32,
   "id": "33e55ab9",
   "metadata": {},
   "outputs": [
    {
     "name": "stdout",
     "output_type": "stream",
     "text": [
      "Bin 1: 0.0 - 99.26275\n",
      "Bin 2: 99.26275 - 122.013\n",
      "Bin 3: 122.013 - 140.077\n",
      "Bin 4: 140.077 - 243.372\n"
     ]
    }
   ],
   "source": [
    "hist, bin_edges = np.histogram(df['tempo'], bins=bin_edges)\n",
    "\n",
    "# Print the bin boundaries\n",
    "for i in range(len(bin_edges)-1):\n",
    "    print(f\"Bin {i+1}: {bin_edges[i]} - {bin_edges[i+1]}\")"
   ]
  },
  {
   "cell_type": "code",
   "execution_count": 33,
   "id": "98223a6f",
   "metadata": {},
   "outputs": [
    {
     "data": {
      "text/plain": [
       "113"
      ]
     },
     "execution_count": 33,
     "metadata": {},
     "output_type": "execute_result"
    }
   ],
   "source": [
    "df['track_genre'].nunique()"
   ]
  },
  {
   "cell_type": "code",
   "execution_count": 34,
   "id": "5d526be4",
   "metadata": {},
   "outputs": [
    {
     "data": {
      "text/plain": [
       "31437"
      ]
     },
     "execution_count": 34,
     "metadata": {},
     "output_type": "execute_result"
    }
   ],
   "source": [
    "df['artists'].nunique()"
   ]
  },
  {
   "cell_type": "code",
   "execution_count": 35,
   "id": "8a74091b",
   "metadata": {},
   "outputs": [
    {
     "name": "stdout",
     "output_type": "stream",
     "text": [
      "Top 20 Repeating Values:\n",
      "George Jones                      260\n",
      "my little airport                 171\n",
      "The Beatles                       149\n",
      "BTS                               143\n",
      "Håkan Hellström                   141\n",
      "Glee Cast                         139\n",
      "Hank Williams                     136\n",
      "Linkin Park                       133\n",
      "Scooter                           130\n",
      "OneRepublic                       124\n",
      "CoComelon                         122\n",
      "Ella Fitzgerald                   111\n",
      "Dean Martin                       110\n",
      "Arctic Monkeys                    110\n",
      "Vybz Kartel                       106\n",
      "Germaine Franco                   106\n",
      "Charlie Brown Jr.                 106\n",
      "Elvis Presley                     105\n",
      "The Beach Boys                    104\n",
      "Hank Williams;Drifting Cowboys    104\n",
      "Name: artists, dtype: int64\n"
     ]
    }
   ],
   "source": [
    "value_counts = df['artists'].value_counts()\n",
    "\n",
    "# Get the top 20 repeating values\n",
    "top_20_repeating_values = value_counts.head(20)\n",
    "\n",
    "# Display the top 20 repeating values\n",
    "print(\"Top 20 Repeating Values:\")\n",
    "print(top_20_repeating_values)"
   ]
  },
  {
   "cell_type": "code",
   "execution_count": 36,
   "id": "435c2b76",
   "metadata": {},
   "outputs": [
    {
     "name": "stdout",
     "output_type": "stream",
     "text": [
      "Top 20 Repeating Values:\n",
      "acoustic         1000\n",
      "alt-rock          999\n",
      "tango             999\n",
      "ambient           999\n",
      "afrobeat          999\n",
      "cantopop          999\n",
      "bluegrass         998\n",
      "forro             998\n",
      "study             998\n",
      "chicago-house     998\n",
      "disney            998\n",
      "sleep             997\n",
      "heavy-metal       997\n",
      "breakbeat         997\n",
      "black-metal       996\n",
      "j-idol            995\n",
      "happy             995\n",
      "anime             995\n",
      "club              994\n",
      "comedy            990\n",
      "Name: track_genre, dtype: int64\n"
     ]
    }
   ],
   "source": [
    "value_counts = df['track_genre'].value_counts()\n",
    "\n",
    "# Get the top 20 repeating values\n",
    "top_20_repeating_values = value_counts.head(20)\n",
    "\n",
    "# Display the top 20 repeating values\n",
    "print(\"Top 20 Repeating Values:\")\n",
    "print(top_20_repeating_values)"
   ]
  },
  {
   "cell_type": "code",
   "execution_count": 37,
   "id": "0e980b8f",
   "metadata": {},
   "outputs": [],
   "source": [
    "df=df.drop(columns=['artists','popularity','duration_ms','duration','danceability','energy','acousticness','tempo','valence'])"
   ]
  },
  {
   "cell_type": "code",
   "execution_count": 38,
   "id": "bef56ca8",
   "metadata": {},
   "outputs": [
    {
     "data": {
      "application/vnd.jupyter.widget-view+json": {
       "model_id": "cfb1285b8f544a8ba44734936da2f9be",
       "version_major": 2,
       "version_minor": 0
      },
      "text/plain": [
       "VBox(children=(HTML(value='<div class=\"bamboolib-notification bamboolib-notification-info\"><b>Pro Tip:</b> sav…"
      ]
     },
     "metadata": {},
     "output_type": "display_data"
    }
   ],
   "source": [
    "bam.show(df)"
   ]
  },
  {
   "cell_type": "code",
   "execution_count": 39,
   "id": "ec4223d9",
   "metadata": {},
   "outputs": [],
   "source": [
    "import pickle\n",
    "df.to_pickle('song_recommendation_dataset_new.pkl')"
   ]
  },
  {
   "cell_type": "code",
   "execution_count": 40,
   "id": "abafa1b6",
   "metadata": {},
   "outputs": [],
   "source": [
    "loaded_df = pd.read_pickle('song_recommendation_dataset_new.pkl')"
   ]
  },
  {
   "cell_type": "code",
   "execution_count": 41,
   "id": "ca546857",
   "metadata": {},
   "outputs": [
    {
     "data": {
      "application/vnd.jupyter.widget-view+json": {
       "model_id": "bd7c3e33206c4ac3925b1549b914b3f6"
      },
      "text/plain": [
       "                 track_id                                         album_name  \\\n",
       "0  5SuOikwiRyPMVoIQDJUgSV                                             Comedy   \n",
       "1  4qPNDBW1i3p13qLCt0Ki3A                                   Ghost (Acoustic)   \n",
       "2  1iJBSr7s7jYXzM8EGcbK5b                                     To Begin Again   \n",
       "3  6lfxq3CG4xtTiEg7opyCyx  Crazy Rich Asians (Original Motion Picture Sou...   \n",
       "4  5vjLSffimiIP26QG5WcN2K                                            Hold On   \n",
       "\n",
       "                   track_name  explicit track_genre  popularity_1  duration_1  \\\n",
       "0                      Comedy         0    acoustic           3.0         2.0   \n",
       "1            Ghost - Acoustic         0    acoustic           2.0         0.0   \n",
       "2              To Begin Again         0    acoustic           2.0         1.0   \n",
       "3  Can't Help Falling In Love         0    acoustic           3.0         1.0   \n",
       "4                     Hold On         0    acoustic           4.0         1.0   \n",
       "\n",
       "  danceability_1  energy_1  acousticness_1  valence_1  tempo_1  \n",
       "0              3       2.0             0.0        3.0      0.0  \n",
       "1              2       0.0             4.0        1.0      0.0  \n",
       "2              2       1.0             1.0        0.0      0.0  \n",
       "3              1       0.0             4.0        0.0      3.0  \n",
       "4              3       2.0             2.0        0.0      1.0  "
      ]
     },
     "metadata": {},
     "output_type": "display_data"
    }
   ],
   "source": [
    "df.head()"
   ]
  },
  {
   "cell_type": "code",
   "execution_count": 42,
   "id": "f6b21bb8",
   "metadata": {},
   "outputs": [
    {
     "data": {
      "application/vnd.jupyter.widget-view+json": {
       "model_id": "aaf62dff7471485598b84a88c4c6834b"
      },
      "text/plain": [
       "                 track_id                                         album_name  \\\n",
       "0  5SuOikwiRyPMVoIQDJUgSV                                             Comedy   \n",
       "1  4qPNDBW1i3p13qLCt0Ki3A                                   Ghost (Acoustic)   \n",
       "2  1iJBSr7s7jYXzM8EGcbK5b                                     To Begin Again   \n",
       "3  6lfxq3CG4xtTiEg7opyCyx  Crazy Rich Asians (Original Motion Picture Sou...   \n",
       "4  5vjLSffimiIP26QG5WcN2K                                            Hold On   \n",
       "\n",
       "                   track_name  explicit track_genre  popularity_1  duration_1  \\\n",
       "0                      Comedy         0    acoustic           3.0         2.0   \n",
       "1            Ghost - Acoustic         0    acoustic           2.0         0.0   \n",
       "2              To Begin Again         0    acoustic           2.0         1.0   \n",
       "3  Can't Help Falling In Love         0    acoustic           3.0         1.0   \n",
       "4                     Hold On         0    acoustic           4.0         1.0   \n",
       "\n",
       "  danceability_1  energy_1  acousticness_1  valence_1  tempo_1  \n",
       "0              3       2.0             0.0        3.0      0.0  \n",
       "1              2       0.0             4.0        1.0      0.0  \n",
       "2              2       1.0             1.0        0.0      0.0  \n",
       "3              1       0.0             4.0        0.0      3.0  \n",
       "4              3       2.0             2.0        0.0      1.0  "
      ]
     },
     "metadata": {},
     "output_type": "display_data"
    }
   ],
   "source": [
    "df.head()"
   ]
  },
  {
   "cell_type": "code",
   "execution_count": null,
   "id": "a680b894",
   "metadata": {},
   "outputs": [],
   "source": []
  }
 ],
 "metadata": {
  "kernelspec": {
   "display_name": "Python 3 (ipykernel)",
   "language": "python",
   "name": "python3"
  },
  "language_info": {
   "codemirror_mode": {
    "name": "ipython",
    "version": 3
   },
   "file_extension": ".py",
   "mimetype": "text/x-python",
   "name": "python",
   "nbconvert_exporter": "python",
   "pygments_lexer": "ipython3",
   "version": "3.9.18"
  }
 },
 "nbformat": 4,
 "nbformat_minor": 5
}
